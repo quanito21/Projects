{
 "cells": [
  {
   "cell_type": "markdown",
   "id": "79b9b181-ebe4-49aa-ae71-0bd72176b056",
   "metadata": {},
   "source": [
    "# Unit 1 Programming Assignment\n",
    "* The objective of this assignment is to help reinforce the Python concepts from Unit 1.\n",
    "* We will accomplish this by doing several string and list manipulation exercises, then create a function that encapsulates some of the pieces."
   ]
  },
  {
   "cell_type": "markdown",
   "id": "7b5c88fe-b94e-4c16-a80b-62c36e04bfe8",
   "metadata": {},
   "source": [
    "## This programming exercise will use a number of string and list methods.\n",
    "### Here are the Python documentation links for [string methods](https://docs.python.org/3/library/stdtypes.html#string-methods) and [list methods](https://docs.python.org/3/library/stdtypes.html#generator-types)\n",
    "\n",
    "### Generaly useful Python resources are [Python Like You Mean It](https://www.pythonlikeyoumeanit.com/), [Python Data Science Handbook](https://github.com/jakevdp/PythonDataScienceHandbook) and [A Whirlwind Tour of Python](https://jakevdp.github.io/WhirlwindTourOfPython/)"
   ]
  },
  {
   "cell_type": "markdown",
   "id": "a925bf44-c7b2-49e5-98ae-5c1a81e7bf7a",
   "metadata": {
    "tags": []
   },
   "source": [
    "### Let us start be defining a string called `myString` that is an excerpt from **Python Like You Mean It**."
   ]
  },
  {
   "cell_type": "code",
   "execution_count": 1,
   "id": "f79e7d81-ee55-46e1-86d5-7a6e15e20584",
   "metadata": {
    "tags": []
   },
   "outputs": [],
   "source": [
    "myString = '''A Jupyter notebook is similar to the IPython console, but, instead of only being able to work with a single line of code at a time,\n",
    "you can easily edit and re-execute any code that had been written in a notebook. Furthermore,\n",
    "you can save a notebook, and thus return to it later.\n",
    "Additionally, a notebook provides many terrific features.\n",
    "For instance, you can embed visualizations of data within a notebook, and write blocks of nicely-formatted text\n",
    "(using the Markdown syntax), for presenting and explaining the contents of the notebook.\n",
    "\n",
    "Jupyter lab is a new web interface from Project Jupyter that provides a rich web-based interface for managing and running Jupyter notebooks,\n",
    "console terminals, and text editors, all within your browser. Among its useful features and polished user interface, Jupyter lab provides\n",
    "moveable panes for viewing data, images, and code output apart from the rest of the notebook.\n",
    "This is facilitates effective data science work flows.'''\n"
   ]
  },
  {
   "cell_type": "markdown",
   "id": "d3bcc94a-3266-43cf-94a0-2bff108a74bb",
   "metadata": {},
   "source": [
    "### Use `print` to print out `myString`."
   ]
  },
  {
   "cell_type": "code",
   "execution_count": 10,
   "id": "6c8e1167-4831-4e96-80b6-b2835c8f68ce",
   "metadata": {
    "tags": []
   },
   "outputs": [],
   "source": [
    "# Write your code to print myString below."
   ]
  },
  {
   "cell_type": "code",
   "execution_count": 3,
   "id": "9a2b7dec-da1c-49f1-8414-de8c0b4d346d",
   "metadata": {
    "tags": []
   },
   "outputs": [
    {
     "name": "stdout",
     "output_type": "stream",
     "text": [
      "A Jupyter notebook is similar to the IPython console, but, instead of only being able to work with a single line of code at a time,\n",
      "you can easily edit and re-execute any code that had been written in a notebook. Furthermore,\n",
      "you can save a notebook, and thus return to it later.\n",
      "Additionally, a notebook provides many terrific features.\n",
      "For instance, you can embed visualizations of data within a notebook, and write blocks of nicely-formatted text\n",
      "(using the Markdown syntax), for presenting and explaining the contents of the notebook.\n",
      "\n",
      "Jupyter lab is a new web interface from Project Jupyter that provides a rich web-based interface for managing and running Jupyter notebooks,\n",
      "console terminals, and text editors, all within your browser. Among its useful features and polished user interface, Jupyter lab provides\n",
      "moveable panes for viewing data, images, and code output apart from the rest of the notebook.\n",
      "This is facilitates effective data science work flows.\n"
     ]
    }
   ],
   "source": [
    "print(myString)"
   ]
  },
  {
   "cell_type": "markdown",
   "id": "20907f3a-a59c-4fdd-a882-6976507ad354",
   "metadata": {},
   "source": [
    "### Notice that `myString` has several lines and several sentences.\n",
    "* Assume that each line is terminated with a newline character (`\\n`)  and each sentence is terminated in a period(`.`).\n",
    "* Use the string `count` method to count the number of lines and the number of sentences in `myString`. \n",
    "* Use an f-string to print out the message \"myString has NN lines and MM sentences.\" where NN and MM are replaced by the actual values."
   ]
  },
  {
   "cell_type": "code",
   "execution_count": 4,
   "id": "c6d76fc4-77ab-40c2-b642-2403a1a5ca3c",
   "metadata": {
    "tags": []
   },
   "outputs": [
    {
     "name": "stdout",
     "output_type": "stream",
     "text": [
      "myString has 11 lines and 7 sentences.\n"
     ]
    }
   ],
   "source": [
    "# Write you code below to calculate and print out the number of lines and sentences in myString\n",
    "\n",
    "# Count the number of newline characters '\\n'\n",
    "lines = myString.count('\\n') + 1  # Adding 1 because the last line doesn't have a newline\n",
    "\n",
    "# Count the number of sentences by periods '.'\n",
    "sentences= myString.count('.')\n",
    "\n",
    "# Print the result\n",
    "print(f\"myString has {lines } lines and {sentences} sentences.\")"
   ]
  },
  {
   "cell_type": "markdown",
   "id": "41abcd50-46fc-4b66-b507-5da0ee4521a9",
   "metadata": {},
   "source": [
    "### Let us convert `myString` to a new string (call it `newString`) that replaces all the newline (`\\n`) characters with a single space character.\n",
    "* You may find the string method `str.replace` handy to do this.\n",
    "* Print out `newString` to confirm that all newline characters have been removed."
   ]
  },
  {
   "cell_type": "code",
   "execution_count": 5,
   "id": "a04fb0f5-b5e3-46d7-aea1-a35c82892397",
   "metadata": {},
   "outputs": [
    {
     "name": "stdout",
     "output_type": "stream",
     "text": [
      "A Jupyter notebook is similar to the IPython console, but, instead of only being able to work with a single line of code at a time, you can easily edit and re-execute any code that had been written in a notebook. Furthermore, you can save a notebook, and thus return to it later. Additionally, a notebook provides many terrific features. For instance, you can embed visualizations of data within a notebook, and write blocks of nicely-formatted text (using the Markdown syntax), for presenting and explaining the contents of the notebook.  Jupyter lab is a new web interface from Project Jupyter that provides a rich web-based interface for managing and running Jupyter notebooks, console terminals, and text editors, all within your browser. Among its useful features and polished user interface, Jupyter lab provides moveable panes for viewing data, images, and code output apart from the rest of the notebook. This is facilitates effective data science work flows.\n"
     ]
    }
   ],
   "source": [
    "# Write your code here to create newString and print it out.\n",
    "\n",
    "# Replace all newline characters with a single space\n",
    "newString = myString.replace('\\n', ' ')\n",
    "\n",
    "# Print out newString\n",
    "print(newString)"
   ]
  },
  {
   "cell_type": "markdown",
   "id": "35a9ed53-2f00-4686-9e49-58b8346cea18",
   "metadata": {},
   "source": [
    "### Now we want to extract the 4th sentence in `newString` to a variable called `sentence4`.\n",
    "* The class lecture showed one way of doing this using `find` to locate the index of `.` characters and then subsetting the full string.\n",
    "    * You can use a similar method if you want.\n",
    "* Another way to do this is to use the `splitlines` method - \n",
    "    * first use `replace` to convert `.` to `\\n`, then \n",
    "    * use `splitlines` to get a list of all the sentences, then\n",
    "    * use indexing to get the 4th sentence."
   ]
  },
  {
   "cell_type": "code",
   "execution_count": 6,
   "id": "96adb4c4-50fb-4275-8e39-02e3dec3aeee",
   "metadata": {},
   "outputs": [
    {
     "name": "stdout",
     "output_type": "stream",
     "text": [
      "For instance, you can embed visualizations of data within a notebook, and write blocks of nicely-formatted text (using the Markdown syntax), for presenting and explaining the contents of the notebook\n"
     ]
    }
   ],
   "source": [
    "# Write your code to create `sentence4` here.\n",
    "\n",
    "# Replace all periods with newline characters\n",
    "tempString= newString.replace('.', '\\n')\n",
    "\n",
    "# Split the string into a list of sentences\n",
    "sentences = tempString.splitlines()\n",
    "\n",
    "# Extract the 4th sentence (index 3 because indexing starts at 0)\n",
    "sentence4 = sentences[3].strip()  # Using strip() to remove any leading or trailing spaces\n",
    "\n",
    "# Print the 4th sentence\n",
    "print(sentence4)"
   ]
  },
  {
   "cell_type": "markdown",
   "id": "b545b374-a773-42b8-bd55-7d738706cb1a",
   "metadata": {},
   "source": [
    "### Now let us put all these steps together and write a function `getSentenceN` that:\n",
    "* given a string `inString` and a sentence number `sentNumb`\n",
    "* returns the `sentNumb` sentence.\n",
    "* You can assume that:\n",
    "    * the only line separators are newlines ('\\n')\n",
    "    * each sentence ends in a `.`\n",
    "    * there are at least `sentNumb` number of sentences in `inString`\n",
    "* You must include an approrpiate docstring describing your function so that `help getSentence` prints the appropriate message"
   ]
  },
  {
   "cell_type": "code",
   "execution_count": 9,
   "id": "d45a19e2-e236-4a2f-a0fb-e811ef26041f",
   "metadata": {},
   "outputs": [],
   "source": [
    "# Write your code for getSentenceN here\n",
    "\n",
    "def getSentenceN(inString, sentNumb):\n",
    "    \"\"\"    \n",
    "    Parameters:\n",
    "    inString (str): The input string containing multiple sentences.\n",
    "    sentNumb (int): The sentence number to extract.\n",
    "\n",
    "    Returns:\n",
    "    str: The requested sentence from the input string.\n",
    "    \n",
    "    \"\"\"\n",
    "\n",
    "    # Replace all periods with newline characters to isolate sentences\n",
    "    temp_string = inString.replace('.', '\\n')\n",
    "\n",
    "    # Split the string into a list of sentences\n",
    "    sentences = temp_string.splitlines()\n",
    "\n",
    "    # Extract the sentNumb-th sentence\n",
    "    sentence = sentences[sentNumb - 1].strip()  # strip() to remove any leading/trailing spaces\n",
    "\n",
    "    return sentence\n"
   ]
  },
  {
   "cell_type": "markdown",
   "id": "32cfa5c9-45a9-440b-acdb-54519040574d",
   "metadata": {},
   "source": [
    "### Test your function using a number of examples of `inString` and `sentNumb`.\n",
    "* The prior example would be `inString = myString` and `sentNumb = 4`\n",
    "* For each example, clearly indicate the string you are using as input, the sentence number and the output of your function."
   ]
  },
  {
   "cell_type": "code",
   "execution_count": 10,
   "id": "034a2680-8655-4c83-a5fb-1221ae3ab2b6",
   "metadata": {},
   "outputs": [
    {
     "name": "stdout",
     "output_type": "stream",
     "text": [
      "you can save a notebook, and thus return to it later\n"
     ]
    }
   ],
   "source": [
    "# Examples to test your function here\n",
    "\n",
    "# Set inString = myString\n",
    "inString = myString\n",
    "\n",
    "# Set sentNumb = 4\n",
    "sentNumb = 4\n",
    "\n",
    "# Call the function\n",
    "print(getSentenceN(inString, sentNumb))"
   ]
  }
 ],
 "metadata": {
  "kernelspec": {
   "display_name": "Python 3 (ipykernel)",
   "language": "python",
   "name": "python3"
  },
  "language_info": {
   "codemirror_mode": {
    "name": "ipython",
    "version": 3
   },
   "file_extension": ".py",
   "mimetype": "text/x-python",
   "name": "python",
   "nbconvert_exporter": "python",
   "pygments_lexer": "ipython3",
   "version": "3.11.5"
  }
 },
 "nbformat": 4,
 "nbformat_minor": 5
}
